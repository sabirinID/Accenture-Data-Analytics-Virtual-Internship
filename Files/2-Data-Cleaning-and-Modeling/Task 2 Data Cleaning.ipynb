{
  "cells": [
    {
      "cell_type": "code",
      "execution_count": 9,
      "metadata": {},
      "outputs": [
        {
          "name": "stdout",
          "output_type": "stream",
          "text": [
            "     Unnamed: 0                            Content ID   \n",
            "0             0  97522e57-d9ab-4bd6-97bf-c24d952602d2  \\\n",
            "1             1  9f737e0a-3cdd-4d29-9d24-753f4e3be810   \n",
            "2             2  230c4e4d-70c3-461d-b42c-ec09396efb3f   \n",
            "3             3  356fff80-da4d-4785-9f43-bc1261031dc6   \n",
            "4             4  01ab84dd-6364-4236-abbb-3f237db77180   \n",
            "..          ...                                   ...   \n",
            "994         994  c54b49c4-b1f2-4641-8595-1cbd19937845   \n",
            "996         996  7a79f4e4-3b7d-44dc-bdef-bc990740252c   \n",
            "997         997  435007a5-6261-4d8b-b0a4-55fdc189754b   \n",
            "998         998  4e4c9690-c013-4ee7-9e66-943d8cbd27b7   \n",
            "999         999  75d6b589-7fae-4a6d-b0d0-752845150e56   \n",
            "\n",
            "                                  User ID        Category  \n",
            "0    8d3cd87d-8a31-4935-9a4f-b319bfe05f31        Studying  \n",
            "1    beb1f34e-7870-46d6-9fc7-2e12eb83ce43  healthy eating  \n",
            "2    a5c65404-5894-4b87-82f2-d787cbee86b4  healthy eating  \n",
            "3    9fb4ce88-fac1-406c-8544-1a899cee7aaf      technology  \n",
            "4    e206e31b-5f85-4964-b6ea-d7ee5324def1            food  \n",
            "..                                    ...             ...  \n",
            "994  2ab641a8-6ad4-4d1a-8511-d87ff5346773         science  \n",
            "996  4fe420fa-a193-4408-bd5d-62a020233609      technology  \n",
            "997  35d6a1f3-e358-4d4b-8074-05f3b7f35c2a        veganism  \n",
            "998  b9bcd994-f000-4f6b-87fc-caae08acfaa1         culture  \n",
            "999  b8c653b5-0118-4d7e-9bde-07c2de90f0ff      technology  \n",
            "\n",
            "[801 rows x 4 columns]\n",
            "    Unnamed: 0         Type Sentiment\n",
            "0            0        heart  positive\n",
            "1            1         want  positive\n",
            "2            2      disgust  negative\n",
            "3            3         hate  negative\n",
            "4            4   interested  positive\n",
            "5            5  indifferent   neutral\n",
            "6            6         love  positive\n",
            "7            7   super love  positive\n",
            "8            8      cherish  positive\n",
            "9            9        adore  positive\n",
            "10          10         like  positive\n",
            "11          11      dislike  negative\n",
            "12          12    intrigued  positive\n",
            "13          13      peeking   neutral\n",
            "14          14       scared  negative\n",
            "15          15      worried  negative\n",
            "       Unnamed: 0                            Content ID   \n",
            "1               1  97522e57-d9ab-4bd6-97bf-c24d952602d2  \\\n",
            "2               2  97522e57-d9ab-4bd6-97bf-c24d952602d2   \n",
            "3               3  97522e57-d9ab-4bd6-97bf-c24d952602d2   \n",
            "4               4  97522e57-d9ab-4bd6-97bf-c24d952602d2   \n",
            "5               5  97522e57-d9ab-4bd6-97bf-c24d952602d2   \n",
            "...           ...                                   ...   \n",
            "25547       25547  75d6b589-7fae-4a6d-b0d0-752845150e56   \n",
            "25548       25548  75d6b589-7fae-4a6d-b0d0-752845150e56   \n",
            "25549       25549  75d6b589-7fae-4a6d-b0d0-752845150e56   \n",
            "25551       25551  75d6b589-7fae-4a6d-b0d0-752845150e56   \n",
            "25552       25552  75d6b589-7fae-4a6d-b0d0-752845150e56   \n",
            "\n",
            "                                    User ID        Type  \n",
            "1      5d454588-283d-459d-915d-c48a2cb4c27f     disgust  \n",
            "2      92b87fa5-f271-43e0-af66-84fac21052e6     dislike  \n",
            "3      163daa38-8b77-48c9-9af6-37a6c1447ac2      scared  \n",
            "4      34e8add9-0206-47fd-a501-037b994650a2     disgust  \n",
            "5      9b6d35f9-5e15-4cd0-a8d7-b1f3340e02c4  interested  \n",
            "...                                     ...         ...  \n",
            "25547  b6d04982-1509-41ab-a700-b390d6cb4d02     worried  \n",
            "25548  80c9ce48-46f9-4f5e-b3ca-3b698fc2e949     dislike  \n",
            "25549  2bd9c167-e06c-47c1-a978-3403d6724606   intrigued  \n",
            "25551  5ffd8b51-164e-47e2-885e-8b8c46eb63ed     worried  \n",
            "25552  4edc3d1a-a7d9-4db6-89c3-f784d9954172     cherish  \n",
            "\n",
            "[22534 rows x 4 columns]\n"
          ]
        }
      ],
      "source": [
        "# Import the pandas library\n",
        "import pandas as pd\n",
        "\n",
        "# Open the three data sets\n",
        "content_df = pd.read_csv('Content.csv')\n",
        "reaction_types_df = pd.read_csv('ReactionTypes.csv')\n",
        "reactions_df = pd.read_csv('Reactions.csv')\n",
        "\n",
        "# Remove rows that have values which are missing\n",
        "content_df.dropna(inplace=True)\n",
        "reaction_types_df.dropna(inplace=True)\n",
        "reactions_df.dropna(inplace=True)\n",
        "\n",
        "# Change the data type of some values within a column\n",
        "content_df['Category'] = content_df['Category'].astype(str)\n",
        "reaction_types_df['Sentiment'] = reaction_types_df['Sentiment'].astype(str)\n",
        "\n",
        "# Remove columns which are not relevant to this task\n",
        "content_df = content_df.drop(['Type', 'URL'], axis=1)\n",
        "reaction_types_df = reaction_types_df.drop(['Score'], axis=1)\n",
        "reactions_df = reactions_df.drop(['Datetime'], axis=1)\n",
        "\n",
        "# Print the cleaned data sets\n",
        "print(content_df)\n",
        "print(reaction_types_df)\n",
        "print(reactions_df)"
      ]
    },
    {
      "cell_type": "code",
      "execution_count": 10,
      "metadata": {},
      "outputs": [],
      "source": [
        "# Merge the data sets on the Content ID column\n",
        "final_df = reactions_df.merge(content_df, on='Content ID')\n",
        "final_df = final_df.merge(reaction_types_df, on='Type')"
      ]
    },
    {
      "cell_type": "code",
      "execution_count": 11,
      "metadata": {},
      "outputs": [
        {
          "data": {
            "text/plain": [
              "Index(['Unnamed: 0_x', 'Content ID', 'User ID_x', 'Type', 'Unnamed: 0_y',\n",
              "       'User ID_y', 'Category', 'Unnamed: 0', 'Sentiment'],\n",
              "      dtype='object')"
            ]
          },
          "execution_count": 11,
          "metadata": {},
          "output_type": "execute_result"
        }
      ],
      "source": [
        "final_df.columns"
      ]
    },
    {
      "cell_type": "code",
      "execution_count": 12,
      "metadata": {},
      "outputs": [
        {
          "data": {
            "text/html": [
              "<div>\n",
              "<style scoped>\n",
              "    .dataframe tbody tr th:only-of-type {\n",
              "        vertical-align: middle;\n",
              "    }\n",
              "\n",
              "    .dataframe tbody tr th {\n",
              "        vertical-align: top;\n",
              "    }\n",
              "\n",
              "    .dataframe thead th {\n",
              "        text-align: right;\n",
              "    }\n",
              "</style>\n",
              "<table border=\"1\" class=\"dataframe\">\n",
              "  <thead>\n",
              "    <tr style=\"text-align: right;\">\n",
              "      <th></th>\n",
              "      <th>Unnamed: 0_x</th>\n",
              "      <th>Content ID</th>\n",
              "      <th>User ID_x</th>\n",
              "      <th>Type</th>\n",
              "      <th>Unnamed: 0_y</th>\n",
              "      <th>User ID_y</th>\n",
              "      <th>Category</th>\n",
              "      <th>Unnamed: 0</th>\n",
              "      <th>Sentiment</th>\n",
              "    </tr>\n",
              "  </thead>\n",
              "  <tbody>\n",
              "    <tr>\n",
              "      <th>0</th>\n",
              "      <td>1</td>\n",
              "      <td>97522e57-d9ab-4bd6-97bf-c24d952602d2</td>\n",
              "      <td>5d454588-283d-459d-915d-c48a2cb4c27f</td>\n",
              "      <td>disgust</td>\n",
              "      <td>0</td>\n",
              "      <td>8d3cd87d-8a31-4935-9a4f-b319bfe05f31</td>\n",
              "      <td>Studying</td>\n",
              "      <td>2</td>\n",
              "      <td>negative</td>\n",
              "    </tr>\n",
              "    <tr>\n",
              "      <th>1</th>\n",
              "      <td>4</td>\n",
              "      <td>97522e57-d9ab-4bd6-97bf-c24d952602d2</td>\n",
              "      <td>34e8add9-0206-47fd-a501-037b994650a2</td>\n",
              "      <td>disgust</td>\n",
              "      <td>0</td>\n",
              "      <td>8d3cd87d-8a31-4935-9a4f-b319bfe05f31</td>\n",
              "      <td>Studying</td>\n",
              "      <td>2</td>\n",
              "      <td>negative</td>\n",
              "    </tr>\n",
              "    <tr>\n",
              "      <th>2</th>\n",
              "      <td>35</td>\n",
              "      <td>97522e57-d9ab-4bd6-97bf-c24d952602d2</td>\n",
              "      <td>13c06e7e-833d-47eb-a790-5e09ccfd8d2c</td>\n",
              "      <td>disgust</td>\n",
              "      <td>0</td>\n",
              "      <td>8d3cd87d-8a31-4935-9a4f-b319bfe05f31</td>\n",
              "      <td>Studying</td>\n",
              "      <td>2</td>\n",
              "      <td>negative</td>\n",
              "    </tr>\n",
              "    <tr>\n",
              "      <th>3</th>\n",
              "      <td>52</td>\n",
              "      <td>9f737e0a-3cdd-4d29-9d24-753f4e3be810</td>\n",
              "      <td>8b49caad-bcc5-43de-bf40-34a66ff8805c</td>\n",
              "      <td>disgust</td>\n",
              "      <td>1</td>\n",
              "      <td>beb1f34e-7870-46d6-9fc7-2e12eb83ce43</td>\n",
              "      <td>healthy eating</td>\n",
              "      <td>2</td>\n",
              "      <td>negative</td>\n",
              "    </tr>\n",
              "    <tr>\n",
              "      <th>4</th>\n",
              "      <td>88</td>\n",
              "      <td>230c4e4d-70c3-461d-b42c-ec09396efb3f</td>\n",
              "      <td>ef147ea5-9696-44d5-b6c2-a43f62fd8ce2</td>\n",
              "      <td>disgust</td>\n",
              "      <td>2</td>\n",
              "      <td>a5c65404-5894-4b87-82f2-d787cbee86b4</td>\n",
              "      <td>healthy eating</td>\n",
              "      <td>2</td>\n",
              "      <td>negative</td>\n",
              "    </tr>\n",
              "  </tbody>\n",
              "</table>\n",
              "</div>"
            ],
            "text/plain": [
              "   Unnamed: 0_x                            Content ID   \n",
              "0             1  97522e57-d9ab-4bd6-97bf-c24d952602d2  \\\n",
              "1             4  97522e57-d9ab-4bd6-97bf-c24d952602d2   \n",
              "2            35  97522e57-d9ab-4bd6-97bf-c24d952602d2   \n",
              "3            52  9f737e0a-3cdd-4d29-9d24-753f4e3be810   \n",
              "4            88  230c4e4d-70c3-461d-b42c-ec09396efb3f   \n",
              "\n",
              "                              User ID_x     Type  Unnamed: 0_y   \n",
              "0  5d454588-283d-459d-915d-c48a2cb4c27f  disgust             0  \\\n",
              "1  34e8add9-0206-47fd-a501-037b994650a2  disgust             0   \n",
              "2  13c06e7e-833d-47eb-a790-5e09ccfd8d2c  disgust             0   \n",
              "3  8b49caad-bcc5-43de-bf40-34a66ff8805c  disgust             1   \n",
              "4  ef147ea5-9696-44d5-b6c2-a43f62fd8ce2  disgust             2   \n",
              "\n",
              "                              User ID_y        Category  Unnamed: 0 Sentiment  \n",
              "0  8d3cd87d-8a31-4935-9a4f-b319bfe05f31        Studying           2  negative  \n",
              "1  8d3cd87d-8a31-4935-9a4f-b319bfe05f31        Studying           2  negative  \n",
              "2  8d3cd87d-8a31-4935-9a4f-b319bfe05f31        Studying           2  negative  \n",
              "3  beb1f34e-7870-46d6-9fc7-2e12eb83ce43  healthy eating           2  negative  \n",
              "4  a5c65404-5894-4b87-82f2-d787cbee86b4  healthy eating           2  negative  "
            ]
          },
          "execution_count": 12,
          "metadata": {},
          "output_type": "execute_result"
        }
      ],
      "source": [
        "final_df.head()"
      ]
    },
    {
      "cell_type": "code",
      "execution_count": 13,
      "metadata": {},
      "outputs": [
        {
          "data": {
            "text/plain": [
              "array(['negative', 'positive', 'neutral'], dtype=object)"
            ]
          },
          "execution_count": 13,
          "metadata": {},
          "output_type": "execute_result"
        }
      ],
      "source": [
        "final_df['Sentiment'].unique()"
      ]
    },
    {
      "cell_type": "code",
      "execution_count": 14,
      "metadata": {},
      "outputs": [],
      "source": [
        "# Create a dictionary to map sentiment values to numeric values\n",
        "sentiment_mapping = {\n",
        "    'negative': -1,\n",
        "    'positive': 1,\n",
        "    'neutral': 0,\n",
        "}\n",
        "\n",
        "# Apply the sentiment mapping to the 'Sentiment' column\n",
        "final_df['Sentiment'] = final_df['Sentiment'].apply(lambda x: sentiment_mapping[x])"
      ]
    },
    {
      "cell_type": "code",
      "execution_count": 15,
      "metadata": {},
      "outputs": [
        {
          "name": "stdout",
          "output_type": "stream",
          "text": [
            "Category\n",
            "healthy eating     1359\n",
            "science            1244\n",
            "education          1040\n",
            "public speaking     969\n",
            "food                961\n",
            "Name: Total Score, dtype: int64\n"
          ]
        }
      ],
      "source": [
        "# Calculate the total score for each category\n",
        "final_df['Total Score'] = final_df['Unnamed: 0'] * final_df['Sentiment']\n",
        "\n",
        "# Sort the data by total score and get the top 5 performing categories\n",
        "top_5_categories = final_df.groupby('Category')['Total Score'].sum().sort_values(ascending=False).head(5)\n",
        "\n",
        "# Print the top 5 categories\n",
        "print(top_5_categories)"
      ]
    },
    {
      "cell_type": "code",
      "execution_count": null,
      "metadata": {},
      "outputs": [],
      "source": []
    }
  ],
  "metadata": {
    "colab": {
      "provenance": []
    },
    "kernelspec": {
      "display_name": "Python 3",
      "name": "python3"
    },
    "language_info": {
      "codemirror_mode": {
        "name": "ipython",
        "version": 3
      },
      "file_extension": ".py",
      "mimetype": "text/x-python",
      "name": "python",
      "nbconvert_exporter": "python",
      "pygments_lexer": "ipython3",
      "version": "3.10.9"
    }
  },
  "nbformat": 4,
  "nbformat_minor": 0
}
